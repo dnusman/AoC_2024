{
 "cells": [
  {
   "cell_type": "code",
   "execution_count": null,
   "metadata": {},
   "outputs": [
    {
     "data": {
      "text/plain": [
       "50"
      ]
     },
     "execution_count": 97,
     "metadata": {},
     "output_type": "execute_result"
    }
   ],
   "source": [
    "import re\n",
    "\n",
    "small = False\n",
    "\n",
    "if small == True:\n",
    "    with open('input_small.txt', 'r') as file:\n",
    "        # Read the entire file and split into lines\n",
    "        lines = file.read().splitlines()\n",
    "\n",
    "else:\n",
    "    with open('input.txt', 'r') as file:\n",
    "        # Read the entire file and split into lines\n",
    "        lines = file.read().splitlines()\n",
    "\n",
    "\n",
    "matrix = [list(line) for line in lines]\n",
    "\n",
    "antenna_map = {}\n",
    "\n",
    "for r in range(len(matrix)):\n",
    "    for c in range(len(matrix[0])):\n",
    "        if matrix[r][c] != '.':\n",
    "            if matrix[r][c] not in antenna_map:\n",
    "                antenna_map[matrix[r][c]] = [(r,c)]\n",
    "            else:\n",
    "                antenna_map[matrix[r][c]].append((r,c))\n"
   ]
  },
  {
   "cell_type": "code",
   "execution_count": null,
   "metadata": {},
   "outputs": [
    {
     "name": "stdout",
     "output_type": "stream",
     "text": [
      "Answer 1: 14\n"
     ]
    }
   ],
   "source": [
    "antinodes = set()\n",
    "\n",
    "for freq in antenna_map:\n",
    "    for node in range(len(antenna_map[freq])-1):\n",
    "        for other_node in range(node,len(antenna_map[freq])):\n",
    "            if node != other_node:\n",
    "                r_dist = antenna_map[freq][other_node][0] - antenna_map[freq][node][0]\n",
    "                c_dist = antenna_map[freq][other_node][1] - antenna_map[freq][node][1]\n",
    "                if (0 <= (antenna_map[freq][node][0]-r_dist) <= (len(matrix)-1)) & (0 <= (antenna_map[freq][node][1]-c_dist) <= (len(matrix[0])-1)):\n",
    "                    antinodes.add((antenna_map[freq][node][0]-r_dist,antenna_map[freq][node][1]-c_dist))\n",
    "                if (0 <= (antenna_map[freq][other_node][0]+r_dist) <= (len(matrix)-1)) & (0 <= (antenna_map[freq][other_node][1]+c_dist) <= (len(matrix[0])-1)):\n",
    "                    antinodes.add((antenna_map[freq][other_node][0]+r_dist,antenna_map[freq][other_node][1]+c_dist))\n",
    "\n",
    "print(f'Answer 1: {len(antinodes)}')\n"
   ]
  },
  {
   "cell_type": "code",
   "execution_count": null,
   "metadata": {},
   "outputs": [
    {
     "name": "stdout",
     "output_type": "stream",
     "text": [
      "Answer 2: 1064\n"
     ]
    }
   ],
   "source": [
    "antinodes = set()\n",
    "\n",
    "for freq in antenna_map:\n",
    "    for node in range(len(antenna_map[freq])-1):\n",
    "        for other_node in range(node,len(antenna_map[freq])):\n",
    "            if node != other_node:\n",
    "                r_dist = antenna_map[freq][other_node][0] - antenna_map[freq][node][0]\n",
    "                c_dist = antenna_map[freq][other_node][1] - antenna_map[freq][node][1]\n",
    "                for step in range(50):\n",
    "                    if (0 <= (antenna_map[freq][node][0]-r_dist*step) <= (len(matrix)-1)) & (0 <= (antenna_map[freq][node][1]-c_dist*step) <= (len(matrix[0])-1)):\n",
    "                        antinodes.add((antenna_map[freq][node][0]-r_dist*step,antenna_map[freq][node][1]-c_dist*step))\n",
    "                    if (0 <= (antenna_map[freq][other_node][0]+r_dist*step) <= (len(matrix)-1)) & (0 <= (antenna_map[freq][other_node][1]+c_dist*step) <= (len(matrix[0])-1)):\n",
    "                        antinodes.add((antenna_map[freq][other_node][0]+r_dist*step,antenna_map[freq][other_node][1]+c_dist*step))\n",
    "\n",
    "print(f'Answer 2: {len(antinodes)}')\n"
   ]
  }
 ],
 "metadata": {
  "kernelspec": {
   "display_name": "base",
   "language": "python",
   "name": "python3"
  },
  "language_info": {
   "codemirror_mode": {
    "name": "ipython",
    "version": 3
   },
   "file_extension": ".py",
   "mimetype": "text/x-python",
   "name": "python",
   "nbconvert_exporter": "python",
   "pygments_lexer": "ipython3",
   "version": "3.9.12"
  }
 },
 "nbformat": 4,
 "nbformat_minor": 2
}
