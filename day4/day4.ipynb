{
 "cells": [
  {
   "cell_type": "code",
   "execution_count": 1,
   "metadata": {},
   "outputs": [],
   "source": [
    "small = False\n",
    "\n",
    "if small == True:\n",
    "    with open('input_small.txt', 'r') as file:\n",
    "        # Read the entire file and split into lines\n",
    "        lines = file.read().splitlines()\n",
    "else:\n",
    "    with open('input.txt', 'r') as file:\n",
    "        # Read the entire file and split into lines\n",
    "        lines = file.read().splitlines()\n",
    "matrix = [list(line) for line in lines]\n"
   ]
  },
  {
   "cell_type": "code",
   "execution_count": 2,
   "metadata": {},
   "outputs": [],
   "source": [
    "def check_valid_position(mat,c,r):\n",
    "    check = False\n",
    "    if (c <= len(mat[0]) - 1) & (c >= 0):\n",
    "        if (r <= len(mat) -1) & (r>=0):\n",
    "            check = True\n",
    "    return check\n",
    "    \n",
    "def find_next_letter(mat, c, r, current_letter, letter_to_find, dir):\n",
    "    if mat[r + dir[0]][c + dir[1]] == letter_to_find:\n",
    "        # print(f'found {letter_to_find} after {current_letter}')\n",
    "        return True\n"
   ]
  },
  {
   "cell_type": "code",
   "execution_count": 3,
   "metadata": {},
   "outputs": [
    {
     "name": "stdout",
     "output_type": "stream",
     "text": [
      "Answer 1: 2483\n"
     ]
    }
   ],
   "source": [
    "directions =[[0,1],[0,-1],[1,0],[-1,0],[-1,-1],[-1,1],[1,1],[1,-1]]\n",
    "\n",
    "total_xmas = 0\n",
    "for cr in range(len(matrix)):\n",
    "    for cc in range(len(matrix[cr])):\n",
    "        if matrix[cr][cc] == 'X':\n",
    "            for dir in directions:\n",
    "                current_letter = 'X'\n",
    "                next_letter = 'M'\n",
    "                if check_valid_position(matrix,cc+dir[1],cr+dir[0]):\n",
    "                    if find_next_letter(matrix,cc,cr,current_letter,next_letter,dir):\n",
    "                        # print(f'found M in {cr+dir[0],cc+dir[1]} after X in {cr,cc} ')\n",
    "                        current_letter = 'M'\n",
    "                        next_letter = 'A'\n",
    "                        if check_valid_position(matrix,cc+dir[1]*2,cr+dir[0]*2):\n",
    "                            if find_next_letter(matrix,cc+dir[1]*1,cr+dir[0]*1,current_letter,next_letter,dir):\n",
    "                                # print(f'found A in {cr+dir[0]*2,cc+dir[1]*2} after M in {cr+dir[0]*1,cc+dir[1]*1} after X in {cr+dir[0]*0,cc+dir[1]*0} ')\n",
    "                                current_letter = 'A'\n",
    "                                next_letter = 'S'\n",
    "                                if check_valid_position(matrix,cc+dir[1]*3,cr+dir[0]*3):\n",
    "                                    if find_next_letter(matrix,cc+dir[1]*2,cr+dir[0]*2,current_letter,next_letter,dir):\n",
    "                                        # print(f'found S in {cr+dir[0]*3,cc+dir[1]*3} after A in {cr+dir[0]*2,cc+dir[1]*2} after M in {cr+dir[0]*1,cc+dir[1]*1} after X in {cr+dir[0]*0,cc+dir[1]*0} ')\n",
    "                                        total_xmas +=1\n",
    "\n",
    "print(f'Answer 1: {total_xmas}')\n",
    "            "
   ]
  },
  {
   "cell_type": "code",
   "execution_count": 4,
   "metadata": {},
   "outputs": [],
   "source": [
    "def check_xmas(matrix,cr,cc,option):\n",
    "    # print(f'checking option {option}')\n",
    "    if option == 1:\n",
    "        if ((matrix[cr+0][cc+2] == 'M') & \n",
    "            (matrix[cr+2][cc+0] == 'S') & \n",
    "            (matrix[cr+1][cc+1] == 'A') & \n",
    "            (matrix[cr+2][cc+2] == 'S')):\n",
    "            # print('option 1')\n",
    "            return True\n",
    "    if option == 2:\n",
    "        if ((matrix[cr+0][cc-2] == 'S') & \n",
    "            (matrix[cr+2][cc-0] == 'M') & \n",
    "            (matrix[cr+1][cc-1] == 'A') & \n",
    "            (matrix[cr+2][cc-2] == 'S')):\n",
    "            # print('option 2')\n",
    "            return True\n",
    "    if option == 3:\n",
    "        if ((matrix[cr+0][cc-2] == 'M') & \n",
    "            (matrix[cr-2][cc-2] == 'S') & \n",
    "            (matrix[cr-2][cc-0] == 'S') &\n",
    "            (matrix[cr-1][cc-1] == 'A')):\n",
    "            # print('option 3')\n",
    "            return True\n",
    "    if option == 4:\n",
    "        if ((matrix[cr-2][cc+0] == 'M') &\n",
    "            (matrix[cr-2][cc+2] == 'S') & \n",
    "            (matrix[cr+0][cc+2] == 'S') & \n",
    "            (matrix[cr-1][cc+1] == 'A')):\n",
    "            # print('option 4')\n",
    "            return True\n",
    "\n",
    "def check_options(matrix,cc,cr):\n",
    "    valid_options = []\n",
    "    if (cc <= (len(matrix[0])-3)) & (cr <= (len(matrix)-3)):\n",
    "        valid_options.append(1)\n",
    "    if (cc >= 2) & (cr <= (len(matrix)-3)):\n",
    "        valid_options.append(2)\n",
    "    if (cc >= 2) & (cr >= 2):\n",
    "        valid_options.append(3)\n",
    "    if (cc <= (len(matrix[0])-3)) & (cr >= 2):\n",
    "        valid_options.append(4)\n",
    "    return valid_options"
   ]
  },
  {
   "cell_type": "code",
   "execution_count": 5,
   "metadata": {},
   "outputs": [
    {
     "name": "stdout",
     "output_type": "stream",
     "text": [
      "Answer 2: 1925\n"
     ]
    }
   ],
   "source": [
    "total_x_mas = 0\n",
    "for cr in range(len(matrix)):\n",
    "    for cc in range(len(matrix[cr])):\n",
    "        if matrix[cr][cc] == 'M':\n",
    "            options = check_options(matrix,cc,cr)\n",
    "            # print(f'Checking options {options} for M in {cr,cc}')\n",
    "            for option in options:\n",
    "                if check_xmas(matrix,cr,cc,option):\n",
    "                    total_x_mas +=1\n",
    "\n",
    "\n",
    "print(f'Answer 2: {total_x_mas}')\n",
    "            "
   ]
  }
 ],
 "metadata": {
  "kernelspec": {
   "display_name": "base",
   "language": "python",
   "name": "python3"
  },
  "language_info": {
   "codemirror_mode": {
    "name": "ipython",
    "version": 3
   },
   "file_extension": ".py",
   "mimetype": "text/x-python",
   "name": "python",
   "nbconvert_exporter": "python",
   "pygments_lexer": "ipython3",
   "version": "3.9.12"
  }
 },
 "nbformat": 4,
 "nbformat_minor": 2
}
