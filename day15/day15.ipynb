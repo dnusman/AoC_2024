{
 "cells": [
  {
   "cell_type": "code",
   "execution_count": 4,
   "metadata": {},
   "outputs": [
    {
     "name": "stdout",
     "output_type": "stream",
     "text": [
      "Start position: (24, 24)\n"
     ]
    }
   ],
   "source": [
    "small = False\n",
    "\n",
    "if small == True:\n",
    "    with open('input_small.txt', 'r') as file:\n",
    "        lines = file.read().split('\\n\\n')\n",
    "else:\n",
    "    with open('input.txt', 'r') as file:\n",
    "        lines = file.read().split('\\n\\n')\n",
    "\n",
    "warehouse = [[(char) for char in line] for line in lines[0].splitlines()]\n",
    "# display(warehouse)\n",
    "\n",
    "movements = lines[1].replace('\\n','')\n",
    "\n",
    "\n",
    "for r in range(len(warehouse)):\n",
    "    for c in range(len(warehouse[0])):\n",
    "        if warehouse[r][c] == \"@\":\n",
    "            start_pos = r,c\n",
    "print(f'Start position: {start_pos}')"
   ]
  },
  {
   "cell_type": "code",
   "execution_count": 2,
   "metadata": {},
   "outputs": [],
   "source": [
    "def generate_dir(move):\n",
    "    if move == \"<\":\n",
    "        dir = [0,-1]\n",
    "    elif move == \">\":\n",
    "        dir = [0,1]\n",
    "    elif move == \"^\":\n",
    "        dir = [-1,0]\n",
    "    elif move == \"v\":\n",
    "        dir = [1,0]\n",
    "    return dir\n",
    "\n",
    "def check_next(mat,cr,cc,dir_r,dir_c):\n",
    "    next = mat[cr+dir_r][cc+dir_c]\n",
    "    return next\n",
    "    "
   ]
  },
  {
   "cell_type": "code",
   "execution_count": 3,
   "metadata": {},
   "outputs": [
    {
     "name": "stdout",
     "output_type": "stream",
     "text": [
      "Answer 1: 1514353\n"
     ]
    }
   ],
   "source": [
    "map = warehouse\n",
    "cr,cc = start_pos\n",
    "\n",
    "for move in movements:\n",
    "\n",
    "    # print(f'new move {move}')\n",
    "    # print(cr,cc)\n",
    "    to_move = [(cr,cc)]\n",
    "    i = 1\n",
    "    dir = generate_dir(move)\n",
    "    cont = True\n",
    "    while cont:\n",
    "        if check_next(map,cr,cc,dir[0]*i,dir[1]*i) == 'O':\n",
    "            # print('adding box')    \n",
    "            to_move.append((cr+dir[0]*i,cc+dir[1]*i))\n",
    "            i +=1\n",
    "        elif check_next(map,cr,cc,dir[0]*i,dir[1]*i) == '#':\n",
    "            # print('hitting wall')\n",
    "            to_move = []\n",
    "            cont = False\n",
    "        elif check_next(map,cr,cc,dir[0]*i,dir[1]*i) == '.':\n",
    "            # print('move everything')\n",
    "            # print(to_move)\n",
    "            for item in reversed(to_move):\n",
    "                map[item[0]+dir[0]][item[1]+dir[1]] = map[item[0]][item[1]]\n",
    "                map[item[0]][item[1]] = '.'\n",
    "            cr,cc = cr+dir[0],cc+dir[1]\n",
    "            cont = False\n",
    "\n",
    "boxes = []\n",
    "for r in range(len(map)):\n",
    "    for c in range(len(map[0])):\n",
    "        if map[r][c] == 'O':\n",
    "            boxes += [(r,c)]\n",
    "\n",
    "\n",
    "print(f'Answer 1: {sum([int[0]*100 + int[1] for int in boxes])}')\n",
    "\n"
   ]
  }
 ],
 "metadata": {
  "kernelspec": {
   "display_name": "base",
   "language": "python",
   "name": "python3"
  },
  "language_info": {
   "codemirror_mode": {
    "name": "ipython",
    "version": 3
   },
   "file_extension": ".py",
   "mimetype": "text/x-python",
   "name": "python",
   "nbconvert_exporter": "python",
   "pygments_lexer": "ipython3",
   "version": "3.9.12"
  }
 },
 "nbformat": 4,
 "nbformat_minor": 2
}
