{
 "cells": [
  {
   "cell_type": "code",
   "execution_count": 36,
   "metadata": {},
   "outputs": [],
   "source": [
    "from itertools import product\n",
    "\n",
    "small = False\n",
    "\n",
    "if small == True:\n",
    "    with open('input_small.txt', 'r') as file:\n",
    "        # Read the entire file and split into lines\n",
    "        lines = file.read().splitlines()\n",
    "\n",
    "else:\n",
    "    with open('input.txt', 'r') as file:\n",
    "        # Read the entire file and split into lines\n",
    "        lines = file.read().splitlines()\n",
    "\n",
    "numbers_map = []\n",
    "\n",
    "for line in lines:\n",
    "    value, nums = line.split(': ')\n",
    "    nums = list(map(int, nums.split(' ')))\n",
    "    numbers_map.append((int(value), nums))\n"
   ]
  },
  {
   "cell_type": "code",
   "execution_count": null,
   "metadata": {},
   "outputs": [],
   "source": [
    "def calculate(numbers, ops):\n",
    "    result = numbers[0]\n",
    "    \n",
    "    for num, op in zip(numbers[1:], ops):\n",
    "        if op == '+':\n",
    "            result += num\n",
    "        elif op == '*':\n",
    "            result *= num\n",
    "        elif op == '|':  # Concatenate the numbers as strings\n",
    "            result = int(str(result) + str(num))    \n",
    "    return result\n"
   ]
  },
  {
   "cell_type": "code",
   "execution_count": 33,
   "metadata": {},
   "outputs": [
    {
     "name": "stdout",
     "output_type": "stream",
     "text": [
      "Answer 1: 1038838357795\n"
     ]
    }
   ],
   "source": [
    "calibration_result = 0\n",
    "operations = ['+', '*']\n",
    "\n",
    "for key, nums in numbers_map:  # Iterate over the list of tuples\n",
    "    operation_sequences = list(product(operations, repeat=len(nums) - 1))  # Use the `nums` directly\n",
    "    for ops in operation_sequences:\n",
    "        result = calculate(nums, ops)  # Use `nums` as the argument\n",
    "        if result == key:  # Compare with the current key\n",
    "            calibration_result += key\n",
    "            break\n",
    "\n",
    "print(f'Answer 1: {calibration_result}')"
   ]
  },
  {
   "cell_type": "code",
   "execution_count": 35,
   "metadata": {},
   "outputs": [
    {
     "name": "stdout",
     "output_type": "stream",
     "text": [
      "Answer 2: 254136560217241\n"
     ]
    }
   ],
   "source": [
    "calibration_result = 0\n",
    "operations = ['+', '*','|']\n",
    "\n",
    "for key, nums in numbers_map:  # Iterate over the list of tuples\n",
    "    operation_sequences = list(product(operations, repeat=len(nums) - 1))  # Use the `nums` directly\n",
    "    for ops in operation_sequences:\n",
    "        result = calculate(nums, ops)  # Use `nums` as the argument\n",
    "        if result == key:  # Compare with the current key\n",
    "            calibration_result += key\n",
    "            break\n",
    "\n",
    "print(f'Answer 2: {calibration_result}')"
   ]
  }
 ],
 "metadata": {
  "kernelspec": {
   "display_name": "base",
   "language": "python",
   "name": "python3"
  },
  "language_info": {
   "codemirror_mode": {
    "name": "ipython",
    "version": 3
   },
   "file_extension": ".py",
   "mimetype": "text/x-python",
   "name": "python",
   "nbconvert_exporter": "python",
   "pygments_lexer": "ipython3",
   "version": "3.9.12"
  }
 },
 "nbformat": 4,
 "nbformat_minor": 2
}
