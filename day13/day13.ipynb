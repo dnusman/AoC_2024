{
 "cells": [
  {
   "cell_type": "code",
   "execution_count": null,
   "metadata": {},
   "outputs": [],
   "source": [
    "import re\n",
    "small = False\n",
    "\n",
    "if small == True:\n",
    "    with open('input_small.txt', 'r') as file:\n",
    "        lines = file.read().split('\\n\\n')\n",
    "else:\n",
    "    with open('input.txt', 'r') as file:\n",
    "        lines = file.read().split('\\n\\n')\n",
    "\n"
   ]
  },
  {
   "cell_type": "code",
   "execution_count": 65,
   "metadata": {},
   "outputs": [
    {
     "name": "stdout",
     "output_type": "stream",
     "text": [
      "Answer 1: 36250\n"
     ]
    }
   ],
   "source": [
    "machine_dict = {}\n",
    "\n",
    "for machine in range(len(lines)):\n",
    "    a,b,price = lines[machine].splitlines()\n",
    "    ax,ay = map(int,re.findall('\\d+',a))\n",
    "    bx,by = map(int,re.findall('\\d+',b))\n",
    "    px,py = map(int,re.findall('\\d+',price))\n",
    "    for press_A in range(101):\n",
    "        for press_B in range(101):\n",
    "            cx = (bx*press_B) + (ax*press_A)\n",
    "            cy = (by*press_B) + (ay*press_A)\n",
    "\n",
    "            if cx == px and cy == py:\n",
    "                tokens = press_A*3 + press_B*1\n",
    "\n",
    "                if machine in machine_dict:\n",
    "                    machine_dict[machine].append(tokens)\n",
    "                else:\n",
    "                    machine_dict[machine] = [tokens]\n",
    "\n",
    "\n",
    "print(f'Answer 1: {sum([min(value) for key,value in machine_dict.items()])}')\n"
   ]
  }
 ],
 "metadata": {
  "kernelspec": {
   "display_name": "base",
   "language": "python",
   "name": "python3"
  },
  "language_info": {
   "codemirror_mode": {
    "name": "ipython",
    "version": 3
   },
   "file_extension": ".py",
   "mimetype": "text/x-python",
   "name": "python",
   "nbconvert_exporter": "python",
   "pygments_lexer": "ipython3",
   "version": "3.9.12"
  }
 },
 "nbformat": 4,
 "nbformat_minor": 2
}
