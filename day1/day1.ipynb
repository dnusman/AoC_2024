{
 "cells": [
  {
   "cell_type": "code",
   "execution_count": null,
   "metadata": {},
   "outputs": [
    {
     "name": "stdout",
     "output_type": "stream",
     "text": [
      "Answer 1: 1223326\n",
      "Answer 2: 21070419\n"
     ]
    }
   ],
   "source": [
    "small = False\n",
    "\n",
    "if small == True:\n",
    "    with open('input_small.txt', 'r') as file:\n",
    "        # Read the entire file and split into lines\n",
    "        lines = file.read().splitlines()\n",
    "else:\n",
    "    with open('input.txt', 'r') as file:\n",
    "        # Read the entire file and split into lines\n",
    "        lines = file.read().splitlines()\n",
    "\n",
    "left = []\n",
    "right = []\n",
    "\n",
    "for line in lines:\n",
    "    item1, item2 = line.split('   ')  # Replace with split(',') or split('\\t') if needed\n",
    "    left.append(int(item1))  # Store as a tuple\n",
    "    right.append(int(item2))\n",
    "\n",
    "left.sort()\n",
    "right.sort()\n",
    "\n",
    "result = list(map(lambda x, y: abs(x - y), left, right))\n",
    "\n",
    "print(f'Answer 1: {sum(result)}')\n",
    "\n",
    "similarity = 0\n",
    "for x in range(len(left)):\n",
    "    multiplication = right.count(left[x])\n",
    "    similarity = similarity + (multiplication * left[x])\n",
    "\n",
    "print(f'Answer 2: {similarity}')\n"
   ]
  }
 ],
 "metadata": {
  "kernelspec": {
   "display_name": "base",
   "language": "python",
   "name": "python3"
  },
  "language_info": {
   "codemirror_mode": {
    "name": "ipython",
    "version": 3
   },
   "file_extension": ".py",
   "mimetype": "text/x-python",
   "name": "python",
   "nbconvert_exporter": "python",
   "pygments_lexer": "ipython3",
   "version": "3.9.12"
  }
 },
 "nbformat": 4,
 "nbformat_minor": 2
}
