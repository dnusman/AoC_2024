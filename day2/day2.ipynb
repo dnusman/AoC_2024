{
 "cells": [
  {
   "cell_type": "code",
   "execution_count": 77,
   "metadata": {},
   "outputs": [],
   "source": [
    "small = False\n",
    "\n",
    "if small == True:\n",
    "    with open('input_small.txt', 'r') as file:\n",
    "        # Read the entire file and split into lines\n",
    "        lines = file.read().splitlines()\n",
    "else:\n",
    "    with open('input.txt', 'r') as file:\n",
    "        # Read the entire file and split into lines\n",
    "        lines = file.read().splitlines()\n",
    "\n",
    "\n",
    "reports = [list(map(int,line.split(' '))) for line in lines]\n",
    "\n",
    "\n"
   ]
  },
  {
   "cell_type": "code",
   "execution_count": 78,
   "metadata": {},
   "outputs": [],
   "source": [
    "def check_safe_report(report):\n",
    "    safe = True\n",
    "    ### INCREASING\n",
    "    if report[1] > report[0]:\n",
    "        for level in range(len(report)-1):\n",
    "            if (report[level+1] <= report[level]) | (abs(report[level+1] - report[level]) > 3):\n",
    "                safe = False\n",
    "    ### DECREASING                \n",
    "    elif report [1] < report[0]:\n",
    "        for level in range(len(report)-1):\n",
    "            if (report[level+1] >= report[level]) | (abs(report[level+1] - report[level]) > 3):\n",
    "                safe = False\n",
    "    else:\n",
    "        safe = False\n",
    "    return(safe)\n"
   ]
  },
  {
   "cell_type": "code",
   "execution_count": 79,
   "metadata": {},
   "outputs": [
    {
     "name": "stdout",
     "output_type": "stream",
     "text": [
      "Answer 1: 660\n",
      "Answer 2: 689\n"
     ]
    }
   ],
   "source": [
    "safe_reports = 0\n",
    "for report in iter(reports):\n",
    "    if check_safe_report(report):\n",
    "        safe_reports += 1\n",
    "\n",
    "print(f'Answer 1: {safe_reports}')\n",
    "\n",
    "safe_reports = 0\n",
    "for report in iter(reports):\n",
    "    if check_safe_report(report):\n",
    "        safe_reports += 1\n",
    "        continue\n",
    "    for level in range(len(report)):\n",
    "        report_tmp = report.copy()\n",
    "        report_tmp.pop(level)  \n",
    "        \n",
    "        if check_safe_report(report_tmp):\n",
    "            safe_reports += 1 \n",
    "            break  \n",
    "\n",
    "print(f'Answer 2: {safe_reports}')\n",
    "\n"
   ]
  }
 ],
 "metadata": {
  "kernelspec": {
   "display_name": "base",
   "language": "python",
   "name": "python3"
  },
  "language_info": {
   "codemirror_mode": {
    "name": "ipython",
    "version": 3
   },
   "file_extension": ".py",
   "mimetype": "text/x-python",
   "name": "python",
   "nbconvert_exporter": "python",
   "pygments_lexer": "ipython3",
   "version": "3.9.12"
  }
 },
 "nbformat": 4,
 "nbformat_minor": 2
}
