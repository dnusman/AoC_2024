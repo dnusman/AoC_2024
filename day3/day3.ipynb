{
 "cells": [
  {
   "cell_type": "code",
   "execution_count": null,
   "metadata": {},
   "outputs": [
    {
     "name": "stdout",
     "output_type": "stream",
     "text": [
      "Answer 2: 190604937\n",
      "Answer 2: 82857512\n"
     ]
    }
   ],
   "source": [
    "import re\n",
    "\n",
    "small = False\n",
    "\n",
    "if small == True:\n",
    "    with open('input_small.txt', 'r') as file:\n",
    "        # Read the entire file and split into lines\n",
    "        lines = file.read().splitlines()\n",
    "else:\n",
    "    with open('input.txt', 'r') as file:\n",
    "        # Read the entire file and split into lines\n",
    "        lines = file.read().splitlines()\n",
    "\n",
    "string = ''.join(lines)\n",
    "\n",
    "pattern = r'mul\\(\\d{1,3},\\d{1,3}\\)|don\\'t|do'\n",
    "instructions = re.findall(pattern,string)\n",
    "\n",
    "valid = 1\n",
    "ans_1 = 0\n",
    "ans_2 = 0\n",
    "\n",
    "for instr in instructions:\n",
    "    if('mul' in instr):\n",
    "        x,y =   re.findall(r'\\d{1,3}',instr)\n",
    "        ans_1 = ans_1 + int(x)*int(y)\n",
    "        ans_2 = ans_2 + valid*(int(x)*int(y))\n",
    "    if(instr == \"don't\"):\n",
    "        valid = 0\n",
    "    if(instr == \"do\"):\n",
    "        valid = 1   \n",
    "\n",
    "print(f'Answer 2: {ans_1}')        \n",
    "print(f'Answer 2: {ans_2}')"
   ]
  }
 ],
 "metadata": {
  "kernelspec": {
   "display_name": "base",
   "language": "python",
   "name": "python3"
  },
  "language_info": {
   "codemirror_mode": {
    "name": "ipython",
    "version": 3
   },
   "file_extension": ".py",
   "mimetype": "text/x-python",
   "name": "python",
   "nbconvert_exporter": "python",
   "pygments_lexer": "ipython3",
   "version": "3.9.12"
  }
 },
 "nbformat": 4,
 "nbformat_minor": 2
}
