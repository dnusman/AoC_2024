{
 "cells": [
  {
   "cell_type": "code",
   "execution_count": 24,
   "metadata": {},
   "outputs": [],
   "source": [
    "small = False\n",
    "\n",
    "if small == True:\n",
    "    with open('input_small.txt', 'r') as file:\n",
    "        # Read the entire file and split into lines\n",
    "        lines = file.read().splitlines()\n",
    "\n",
    "else:\n",
    "    with open('input.txt', 'r') as file:\n",
    "        # Read the entire file and split into lines\n",
    "        lines = file.read().splitlines()\n",
    "\n",
    "\n",
    "matrix = [[int(char) for char in line] for line in lines]\n"
   ]
  },
  {
   "cell_type": "code",
   "execution_count": null,
   "metadata": {},
   "outputs": [
    {
     "name": "stdout",
     "output_type": "stream",
     "text": [
      "Answer 1: 733\n",
      "Answer 2: 1514\n"
     ]
    }
   ],
   "source": [
    "def find_paths(matrix):\n",
    "    rows, cols = len(matrix), len(matrix[0])\n",
    "    paths = []\n",
    "    visited = set()  # To keep track of visited cells\n",
    "    found_nines = set()  # To collect coordinates of all 9s found\n",
    "\n",
    "    # Helper function to perform DFS\n",
    "    def dfs(path, x, y, current_value,start_pos):\n",
    "        # If the value at the current cell is 9, we found a valid path\n",
    "        if current_value == 9:\n",
    "            found_nines.add((start_pos,x, y))  # Record the position of the 9\n",
    "            paths.append(path[:])  # Append a copy of the current path\n",
    "            return\n",
    "\n",
    "        # Possible directions: right, left, down, up\n",
    "        directions = [(0, 1), (0, -1), (1, 0), (-1, 0)]\n",
    "        for dx, dy in directions:\n",
    "            nx, ny = x + dx, y + dy\n",
    "\n",
    "            # Check if the new position is within bounds and is the next number\n",
    "            if (\n",
    "                0 <= nx < rows and\n",
    "                0 <= ny < cols and\n",
    "                matrix[nx][ny] == current_value + 1 and\n",
    "                (nx, ny) not in visited\n",
    "            ):\n",
    "                visited.add((nx, ny))  # Mark as visited\n",
    "                path.append((nx, ny))  # Add the new position to the path\n",
    "                dfs(path, nx, ny, matrix[nx][ny],start_pos)\n",
    "                path.pop()  # Backtrack\n",
    "                visited.remove((nx, ny))  # Unmark as visited\n",
    "\n",
    "    # Find all starting points with value 0\n",
    "    for i in range(rows):\n",
    "        for j in range(cols):\n",
    "            if matrix[i][j] == 0:\n",
    "                visited.add((i, j))  # Mark as visited for this DFS\n",
    "                dfs([(i, j)], i, j, 0,(i,j))\n",
    "                visited.remove((i, j))  # Unmark to allow other searches\n",
    "\n",
    "    return paths, found_nines\n",
    "\n",
    "# Find all paths and collect coordinates of 9s\n",
    "all_paths, all_nines = find_paths(matrix)\n",
    "\n",
    "print(f'Answer 1: {len(all_nines)}')\n",
    "print(f'Answer 2: {len(all_paths)}')"
   ]
  }
 ],
 "metadata": {
  "kernelspec": {
   "display_name": "base",
   "language": "python",
   "name": "python3"
  },
  "language_info": {
   "codemirror_mode": {
    "name": "ipython",
    "version": 3
   },
   "file_extension": ".py",
   "mimetype": "text/x-python",
   "name": "python",
   "nbconvert_exporter": "python",
   "pygments_lexer": "ipython3",
   "version": "3.9.12"
  }
 },
 "nbformat": 4,
 "nbformat_minor": 2
}
